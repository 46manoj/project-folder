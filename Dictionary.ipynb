{
  "nbformat": 4,
  "nbformat_minor": 0,
  "metadata": {
    "colab": {
      "provenance": [],
      "authorship_tag": "ABX9TyMbce4mI3JyhK9MFpY2WN+r",
      "include_colab_link": true
    },
    "kernelspec": {
      "name": "python3",
      "display_name": "Python 3"
    },
    "language_info": {
      "name": "python"
    }
  },
  "cells": [
    {
      "cell_type": "markdown",
      "metadata": {
        "id": "view-in-github",
        "colab_type": "text"
      },
      "source": [
        "<a href=\"https://colab.research.google.com/github/46manoj/project-folder/blob/master/Dictionary.ipynb\" target=\"_parent\"><img src=\"https://colab.research.google.com/assets/colab-badge.svg\" alt=\"Open In Colab\"/></a>"
      ]
    },
    {
      "cell_type": "code",
      "execution_count": 1,
      "metadata": {
        "colab": {
          "base_uri": "https://localhost:8080/"
        },
        "id": "4xxz3kj6bK_w",
        "outputId": "9b4d4385-2748-44f6-f3f9-feb4a09b9171"
      },
      "outputs": [
        {
          "output_type": "stream",
          "name": "stdout",
          "text": [
            "you look sad are you sick??sick\n",
            "so sad take medication and take care of health\n"
          ]
        }
      ],
      "source": [
        "mood_tracker={'good':\"I had a very good day what about you\",'sick':\"so sad take medication and take care of health\"}\n",
        "user_ans=input(\"you look sad are you sick??\")\n",
        "for key in mood_tracker:\n",
        " if key in user_ans:\n",
        "  print(mood_tracker[key])\n",
        ""
      ]
    }
  ]
}